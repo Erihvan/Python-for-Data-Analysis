{
 "cells": [
  {
   "cell_type": "code",
   "execution_count": 1,
   "id": "4c4e77ba",
   "metadata": {},
   "outputs": [
    {
     "data": {
      "text/plain": [
       "65"
      ]
     },
     "execution_count": 1,
     "metadata": {},
     "output_type": "execute_result"
    }
   ],
   "source": [
    "15 + 30 + 20"
   ]
  },
  {
   "cell_type": "code",
   "execution_count": 7,
   "id": "97feb92f",
   "metadata": {},
   "outputs": [],
   "source": [
    "apples = 15"
   ]
  },
  {
   "cell_type": "code",
   "execution_count": 8,
   "id": "1086a30e",
   "metadata": {},
   "outputs": [],
   "source": [
    "bananas = 30"
   ]
  },
  {
   "cell_type": "code",
   "execution_count": 3,
   "id": "e11f739d",
   "metadata": {},
   "outputs": [],
   "source": [
    "oranges = 20"
   ]
  },
  {
   "cell_type": "code",
   "execution_count": 9,
   "id": "7de8a614",
   "metadata": {},
   "outputs": [
    {
     "data": {
      "text/plain": [
       "65"
      ]
     },
     "execution_count": 9,
     "metadata": {},
     "output_type": "execute_result"
    }
   ],
   "source": [
    "total_fruits = apples + bananas + oranges\n",
    "\n",
    "total_fruits"
   ]
  },
  {
   "cell_type": "code",
   "execution_count": 10,
   "id": "0b13fa02",
   "metadata": {},
   "outputs": [],
   "source": [
    "salary = 1000"
   ]
  },
  {
   "cell_type": "code",
   "execution_count": 11,
   "id": "54d23060",
   "metadata": {},
   "outputs": [],
   "source": [
    "expenses = 500"
   ]
  },
  {
   "cell_type": "code",
   "execution_count": 12,
   "id": "e9573b46",
   "metadata": {},
   "outputs": [
    {
     "data": {
      "text/plain": [
       "500"
      ]
     },
     "execution_count": 12,
     "metadata": {},
     "output_type": "execute_result"
    }
   ],
   "source": [
    "savings = salary - expenses\n",
    "\n",
    "savings"
   ]
  },
  {
   "cell_type": "code",
   "execution_count": 13,
   "id": "d0e3b498",
   "metadata": {},
   "outputs": [],
   "source": [
    "lenght = 10.5\n",
    "\n",
    "width = 20"
   ]
  },
  {
   "cell_type": "raw",
   "id": "b0fefe1b",
   "metadata": {},
   "source": [
    "area = lenght * width\n",
    "\n",
    "area"
   ]
  },
  {
   "cell_type": "code",
   "execution_count": null,
   "id": "92aaec20",
   "metadata": {},
   "outputs": [],
   "source": []
  },
  {
   "cell_type": "code",
   "execution_count": null,
   "id": "8dd61fad",
   "metadata": {},
   "outputs": [],
   "source": []
  },
  {
   "cell_type": "code",
   "execution_count": null,
   "id": "d3ca9264",
   "metadata": {},
   "outputs": [],
   "source": []
  },
  {
   "cell_type": "code",
   "execution_count": null,
   "id": "b11b7293",
   "metadata": {},
   "outputs": [],
   "source": []
  },
  {
   "cell_type": "code",
   "execution_count": null,
   "id": "c49614f8",
   "metadata": {},
   "outputs": [],
   "source": []
  },
  {
   "cell_type": "code",
   "execution_count": null,
   "id": "7f5433c7",
   "metadata": {},
   "outputs": [],
   "source": []
  },
  {
   "cell_type": "code",
   "execution_count": null,
   "id": "d1b6f8fb",
   "metadata": {},
   "outputs": [],
   "source": []
  },
  {
   "cell_type": "code",
   "execution_count": null,
   "id": "20bb275f",
   "metadata": {},
   "outputs": [],
   "source": []
  },
  {
   "cell_type": "code",
   "execution_count": null,
   "id": "6251b723",
   "metadata": {},
   "outputs": [],
   "source": []
  },
  {
   "cell_type": "code",
   "execution_count": null,
   "id": "a760d67b",
   "metadata": {},
   "outputs": [],
   "source": []
  }
 ],
 "metadata": {
  "kernelspec": {
   "display_name": "Python 3 (ipykernel)",
   "language": "python",
   "name": "python3"
  },
  "language_info": {
   "codemirror_mode": {
    "name": "ipython",
    "version": 3
   },
   "file_extension": ".py",
   "mimetype": "text/x-python",
   "name": "python",
   "nbconvert_exporter": "python",
   "pygments_lexer": "ipython3",
   "version": "3.9.12"
  }
 },
 "nbformat": 4,
 "nbformat_minor": 5
}
