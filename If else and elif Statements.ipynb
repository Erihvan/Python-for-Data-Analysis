{
 "cells": [
  {
   "cell_type": "code",
   "execution_count": 2,
   "id": "aaaedc87",
   "metadata": {},
   "outputs": [
    {
     "name": "stdout",
     "output_type": "stream",
     "text": [
      "25 is less than 30\n"
     ]
    }
   ],
   "source": [
    "if 25 < 30 :\n",
    "    print(\"25 is less than 30\")"
   ]
  },
  {
   "cell_type": "code",
   "execution_count": 4,
   "id": "64fee044",
   "metadata": {},
   "outputs": [],
   "source": [
    "if 25 > 30:\n",
    "    print(\"Really? Is 25 greater than 30?\")"
   ]
  },
  {
   "cell_type": "code",
   "execution_count": 5,
   "id": "62bde8df",
   "metadata": {},
   "outputs": [],
   "source": [
    "if 35 == 25:\n",
    "    print(\"35 and 25 are exactly the same value\")\n",
    "    "
   ]
  },
  {
   "cell_type": "code",
   "execution_count": 6,
   "id": "78ce850b",
   "metadata": {},
   "outputs": [
    {
     "name": "stdout",
     "output_type": "stream",
     "text": [
      "35 and 25 are NOT exactly the same value\n"
     ]
    }
   ],
   "source": [
    "if not 35 == 25:\n",
    "    print(\"35 and 25 are NOT exactly the same value\")"
   ]
  },
  {
   "cell_type": "code",
   "execution_count": 8,
   "id": "7925ec06",
   "metadata": {},
   "outputs": [
    {
     "name": "stdout",
     "output_type": "stream",
     "text": [
      "the number is greater than zero: 225\n"
     ]
    }
   ],
   "source": [
    "num = 225\n",
    "\n",
    "if num > 0:\n",
    "    print(\"the number is greater than zero:\", num)"
   ]
  },
  {
   "cell_type": "code",
   "execution_count": 9,
   "id": "e69f121f",
   "metadata": {},
   "outputs": [
    {
     "name": "stdout",
     "output_type": "stream",
     "text": [
      "The number is greater than zero: 225\n"
     ]
    }
   ],
   "source": [
    "if num:\n",
    "    print(\"The number is greater than zero:\", num)"
   ]
  },
  {
   "cell_type": "code",
   "execution_count": 10,
   "id": "f2e21200",
   "metadata": {},
   "outputs": [
    {
     "name": "stdout",
     "output_type": "stream",
     "text": [
      "the sum is correct!\n"
     ]
    }
   ],
   "source": [
    "if 35 + 165 == 100 + 100:\n",
    "    print(\"the sum is correct!\")"
   ]
  },
  {
   "cell_type": "code",
   "execution_count": 11,
   "id": "490feecf",
   "metadata": {},
   "outputs": [
    {
     "name": "stdout",
     "output_type": "stream",
     "text": [
      "55 is greater than 45\n"
     ]
    }
   ],
   "source": [
    "if 55 >= 45:\n",
    "    print(\"55 is greater than 45\")\n",
    "    "
   ]
  },
  {
   "cell_type": "code",
   "execution_count": 12,
   "id": "978d198c",
   "metadata": {},
   "outputs": [],
   "source": [
    "salary = 1000\n",
    "expenses = 770"
   ]
  },
  {
   "cell_type": "code",
   "execution_count": 13,
   "id": "0aaefe46",
   "metadata": {},
   "outputs": [],
   "source": [
    "living_within_means = False\n",
    "\n",
    "if salary - expenses > 0:\n",
    "    living_within_means = True"
   ]
  },
  {
   "cell_type": "code",
   "execution_count": 15,
   "id": "4589d56b",
   "metadata": {},
   "outputs": [
    {
     "name": "stdout",
     "output_type": "stream",
     "text": [
      "Am I living within my means? True\n"
     ]
    }
   ],
   "source": [
    "print(\"Am I living within my means?\", living_within_means)"
   ]
  },
  {
   "cell_type": "code",
   "execution_count": 16,
   "id": "abe2a403",
   "metadata": {},
   "outputs": [
    {
     "name": "stdout",
     "output_type": "stream",
     "text": [
      "100 > 50 > 10\n"
     ]
    }
   ],
   "source": [
    "if 100 > 50 > 10:\n",
    "    print(\"100 > 50 > 10\")"
   ]
  },
  {
   "cell_type": "code",
   "execution_count": 17,
   "id": "e07188a8",
   "metadata": {},
   "outputs": [],
   "source": [
    "if 100 < 50 < 10:\n",
    "    print(\"nothing would be printed\")"
   ]
  },
  {
   "cell_type": "code",
   "execution_count": 19,
   "id": "f44a16e5",
   "metadata": {},
   "outputs": [
    {
     "name": "stdout",
     "output_type": "stream",
     "text": [
      "Im glad youre saving but perhaps your expenses could be lower?\n"
     ]
    }
   ],
   "source": [
    "salary = 1000\n",
    "expenses = 770\n",
    "\n",
    "living_within_means = salary - expenses > 0 #this would have a \"True\" result\n",
    "\n",
    "if living_within_means and expenses > 500: # so, living_within_means and expenses are both true... it would print the condition\n",
    "    print(\"Im glad youre saving but perhaps your expenses could be lower?\")"
   ]
  },
  {
   "cell_type": "code",
   "execution_count": 22,
   "id": "29c88cd6",
   "metadata": {},
   "outputs": [
    {
     "name": "stdout",
     "output_type": "stream",
     "text": [
      "In the 'or' expression one of the 2 conditions must be 'True' in order to print this\n"
     ]
    }
   ],
   "source": [
    "if 2 <= 5 or 7 >= 8:\n",
    "    print(\"In the 'or' expression one of the 2 conditions must be 'True' in order to print this\")"
   ]
  },
  {
   "cell_type": "code",
   "execution_count": 23,
   "id": "9c93c361",
   "metadata": {},
   "outputs": [
    {
     "name": "stdout",
     "output_type": "stream",
     "text": [
      "Savings for the month:  230\n"
     ]
    }
   ],
   "source": [
    "salary = 1000\n",
    "expenses = 770\n",
    "\n",
    "savings = 0\n",
    "\n",
    "if salary > expenses:\n",
    "    savings = salary - expenses\n",
    "    print(\"Savings for the month: \", savings)"
   ]
  },
  {
   "cell_type": "code",
   "execution_count": 27,
   "id": "6afe1651",
   "metadata": {},
   "outputs": [
    {
     "name": "stdout",
     "output_type": "stream",
     "text": [
      "Saving for the month:  250\n"
     ]
    }
   ],
   "source": [
    "salary = 1000\n",
    "expenses = 750\n",
    "\n",
    "if salary > expenses:\n",
    "    print(\"Saving for the month: \", salary - expenses)\n",
    "else:\n",
    "    print(\"Loans to tide you over: \", expenses - salary)"
   ]
  },
  {
   "cell_type": "code",
   "execution_count": 28,
   "id": "974b18fc",
   "metadata": {},
   "outputs": [
    {
     "name": "stdout",
     "output_type": "stream",
     "text": [
      "Loans to tide you over:  100\n"
     ]
    }
   ],
   "source": [
    "salary = 1000\n",
    "expenses = 1100\n",
    "\n",
    "if salary > expenses:\n",
    "    print(\"Saving for the month: \", salary - expenses)\n",
    "else:\n",
    "    print(\"Loans to tide you over: \", expenses - salary)"
   ]
  },
  {
   "cell_type": "code",
   "execution_count": 29,
   "id": "2ef893c1",
   "metadata": {},
   "outputs": [
    {
     "name": "stdout",
     "output_type": "stream",
     "text": [
      "The smallest value in this list is negative\n"
     ]
    }
   ],
   "source": [
    "some_list = [3, 5, 2, 9, -10, 100, 22, 21, -1]\n",
    "\n",
    "if min(some_list) < 0:\n",
    "    print(\"The smallest value in this list is negative\")\n",
    "else:\n",
    "    print(\"The smallest value in this list is positive\")"
   ]
  },
  {
   "cell_type": "code",
   "execution_count": 31,
   "id": "e9cbf6a1",
   "metadata": {},
   "outputs": [
    {
     "name": "stdout",
     "output_type": "stream",
     "text": [
      "Savings for the month : 230\n",
      "Savings:  230 Loans:  0\n"
     ]
    }
   ],
   "source": [
    "salary = 1000\n",
    "expenses = 770\n",
    "\n",
    "savings = 0\n",
    "loans = 0\n",
    "\n",
    "if salary > expenses:\n",
    "    savings = salary - expenses\n",
    "    print(\"Savings for the month :\", savings)\n",
    "else:\n",
    "    loans = abs(salary - expenses)\n",
    "    print(\"Loans taken: \", loans)\n",
    "    \n",
    "print(\"Savings: \", savings, \"Loans: \", loans)"
   ]
  },
  {
   "cell_type": "code",
   "execution_count": 34,
   "id": "7465be28",
   "metadata": {},
   "outputs": [],
   "source": [
    "cars = [\"honda\", \"toyota\", \"nissan\", \"audi\"]\n",
    "fish = [\"bass\", \"marlin\", \"mero\", \"trout\"]\n",
    "animals = [\"deer\", \"bear\", \"goat\"]"
   ]
  },
  {
   "cell_type": "code",
   "execution_count": 33,
   "id": "bda0bd46",
   "metadata": {},
   "outputs": [
    {
     "name": "stdout",
     "output_type": "stream",
     "text": [
      "that is not a very long list of cars\n"
     ]
    }
   ],
   "source": [
    "if len(cars) < 5:\n",
    "    print(\"that is not a very long list of cars\")"
   ]
  },
  {
   "cell_type": "code",
   "execution_count": 39,
   "id": "4f1d904e",
   "metadata": {},
   "outputs": [
    {
     "name": "stdout",
     "output_type": "stream",
     "text": [
      "this is a brand of cars\n"
     ]
    }
   ],
   "source": [
    "transport = \"nissan\"\n",
    "\n",
    "if transport in cars:\n",
    "    print(\"this is a brand of cars\")\n",
    "    \n",
    "if transport in fish:\n",
    "    print(\"this is a type of fish\")\n",
    "    \n",
    "if transport in animals:\n",
    "    print(\"this is a kind of animal\")"
   ]
  },
  {
   "cell_type": "code",
   "execution_count": 44,
   "id": "b85df005",
   "metadata": {},
   "outputs": [
    {
     "name": "stdout",
     "output_type": "stream",
     "text": [
      "you did great on math:  100\n"
     ]
    }
   ],
   "source": [
    "math_score = 100\n",
    "\n",
    "if math_score < 20:\n",
    "    print(\"Im afraid is not a great math score\", math_score)\n",
    "    \n",
    "elif math_score < 50:\n",
    "    print(\"You can do better than this\", math_score)\n",
    "    \n",
    "elif math_score < 80:\n",
    "    print(\"Youre close to the highest level you can get\", math_score)\n",
    "    \n",
    "elif math_score <= 100:\n",
    "    print(\"you did great on math: \", math_score)"
   ]
  },
  {
   "cell_type": "code",
   "execution_count": null,
   "id": "93a48657",
   "metadata": {},
   "outputs": [],
   "source": []
  },
  {
   "cell_type": "code",
   "execution_count": null,
   "id": "577c8342",
   "metadata": {},
   "outputs": [],
   "source": []
  },
  {
   "cell_type": "code",
   "execution_count": null,
   "id": "05d5cc27",
   "metadata": {},
   "outputs": [],
   "source": []
  },
  {
   "cell_type": "code",
   "execution_count": null,
   "id": "9c3b10b9",
   "metadata": {},
   "outputs": [],
   "source": []
  },
  {
   "cell_type": "code",
   "execution_count": null,
   "id": "143d875c",
   "metadata": {},
   "outputs": [],
   "source": []
  },
  {
   "cell_type": "code",
   "execution_count": null,
   "id": "3a16ef88",
   "metadata": {},
   "outputs": [],
   "source": []
  },
  {
   "cell_type": "code",
   "execution_count": null,
   "id": "53669b02",
   "metadata": {},
   "outputs": [],
   "source": []
  },
  {
   "cell_type": "code",
   "execution_count": null,
   "id": "10efc706",
   "metadata": {},
   "outputs": [],
   "source": []
  },
  {
   "cell_type": "code",
   "execution_count": null,
   "id": "f51f2093",
   "metadata": {},
   "outputs": [],
   "source": []
  },
  {
   "cell_type": "code",
   "execution_count": null,
   "id": "41049cd4",
   "metadata": {},
   "outputs": [],
   "source": []
  }
 ],
 "metadata": {
  "kernelspec": {
   "display_name": "Python 3 (ipykernel)",
   "language": "python",
   "name": "python3"
  },
  "language_info": {
   "codemirror_mode": {
    "name": "ipython",
    "version": 3
   },
   "file_extension": ".py",
   "mimetype": "text/x-python",
   "name": "python",
   "nbconvert_exporter": "python",
   "pygments_lexer": "ipython3",
   "version": "3.9.12"
  }
 },
 "nbformat": 4,
 "nbformat_minor": 5
}
