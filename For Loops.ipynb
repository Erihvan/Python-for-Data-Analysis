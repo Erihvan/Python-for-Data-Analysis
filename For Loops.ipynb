{
 "cells": [
  {
   "cell_type": "code",
   "execution_count": 1,
   "id": "2f806b1f",
   "metadata": {},
   "outputs": [],
   "source": [
    "sports_cars = [\"A5\", \"Leon\", \"Mustang\"]\n"
   ]
  },
  {
   "cell_type": "code",
   "execution_count": 2,
   "id": "0d74fc59",
   "metadata": {},
   "outputs": [
    {
     "name": "stdout",
     "output_type": "stream",
     "text": [
      "A5\n",
      "Leon\n",
      "Mustang\n"
     ]
    }
   ],
   "source": [
    "for car in sports_cars: #the element \"car\" would take the value of each elements\n",
    "    print(car)"
   ]
  },
  {
   "cell_type": "code",
   "execution_count": 3,
   "id": "30d3ac1c",
   "metadata": {},
   "outputs": [],
   "source": [
    "sports_cars = [\"A5\", \"Leon\", \"Mustang\"]"
   ]
  },
  {
   "cell_type": "code",
   "execution_count": 5,
   "id": "b8dc7e92",
   "metadata": {},
   "outputs": [
    {
     "name": "stdout",
     "output_type": "stream",
     "text": [
      "A5\n",
      "Leon\n",
      "Mustang\n"
     ]
    }
   ],
   "source": [
    "for coches in sports_cars:\n",
    "    print(coches)"
   ]
  },
  {
   "cell_type": "code",
   "execution_count": 6,
   "id": "8c9b0635",
   "metadata": {},
   "outputs": [
    {
     "data": {
      "text/plain": [
       "'Mustang'"
      ]
     },
     "execution_count": 6,
     "metadata": {},
     "output_type": "execute_result"
    }
   ],
   "source": [
    "coches"
   ]
  },
  {
   "cell_type": "code",
   "execution_count": 7,
   "id": "3297c037",
   "metadata": {},
   "outputs": [],
   "source": [
    "lures = [\"spinnerbait\", \"chaterbait\", \"xrap\", \"jig\"]"
   ]
  },
  {
   "cell_type": "code",
   "execution_count": 8,
   "id": "0fb02659",
   "metadata": {},
   "outputs": [
    {
     "name": "stdout",
     "output_type": "stream",
     "text": [
      "spinnerbait\n",
      "chaterbait\n",
      "xrap\n",
      "jig\n"
     ]
    }
   ],
   "source": [
    "for bait in lures:\n",
    "    print(bait)"
   ]
  },
  {
   "cell_type": "code",
   "execution_count": 9,
   "id": "3559f57c",
   "metadata": {},
   "outputs": [
    {
     "data": {
      "text/plain": [
       "'jig'"
      ]
     },
     "execution_count": 9,
     "metadata": {},
     "output_type": "execute_result"
    }
   ],
   "source": [
    "bait"
   ]
  },
  {
   "cell_type": "code",
   "execution_count": 13,
   "id": "db92fe9c",
   "metadata": {},
   "outputs": [
    {
     "name": "stdout",
     "output_type": "stream",
     "text": [
      "p\n",
      "h\n",
      "a\n",
      "n\n",
      "t\n",
      "o\n",
      "m\n"
     ]
    }
   ],
   "source": [
    "for character in [\"p\", \"h\", \"a\", \"n\", \"t\", \"o\", \"m\"]:\n",
    "    print(character)"
   ]
  },
  {
   "cell_type": "code",
   "execution_count": 15,
   "id": "3b53ed9f",
   "metadata": {},
   "outputs": [
    {
     "name": "stdout",
     "output_type": "stream",
     "text": [
      "Juanito la estan rompiendo\n",
      "Diegote la estan rompiendo\n",
      "Makario la estan rompiendo\n"
     ]
    }
   ],
   "source": [
    "for pecuequeros in [\"Juanito\", \"Diegote\", \"Makario\"]:\n",
    "    print(pecuequeros, \"la estan rompiendo\")"
   ]
  },
  {
   "cell_type": "code",
   "execution_count": 16,
   "id": "1c8dcef6",
   "metadata": {},
   "outputs": [
    {
     "name": "stdout",
     "output_type": "stream",
     "text": [
      "Juanito la estan rompiendo\n",
      "Diegote la estan rompiendo\n",
      "Makario la estan rompiendo\n"
     ]
    }
   ],
   "source": [
    "for pecuequeros in [\"Juanito\", \"Diegote\", \"Makario\"]:\n",
    "    print(pecuequeros, \"la estan rompiendo\")"
   ]
  },
  {
   "cell_type": "code",
   "execution_count": 18,
   "id": "bfc78808",
   "metadata": {},
   "outputs": [],
   "source": [
    "num_list = [100,800,302,749,902,362,237]"
   ]
  },
  {
   "cell_type": "code",
   "execution_count": 20,
   "id": "c00473be",
   "metadata": {},
   "outputs": [
    {
     "name": "stdout",
     "output_type": "stream",
     "text": [
      "less than 500:  100\n",
      "greater than 500:  800\n",
      "less than 500:  302\n",
      "greater than 500:  749\n",
      "greater than 500:  902\n",
      "less than 500:  362\n",
      "less than 500:  237\n"
     ]
    }
   ],
   "source": [
    "for num in num_list:\n",
    "    if num < 500:\n",
    "        print(\"less than 500: \", num)\n",
    "    else:\n",
    "        print(\"greater than 500: \", num)"
   ]
  },
  {
   "cell_type": "code",
   "execution_count": 21,
   "id": "f5033475",
   "metadata": {},
   "outputs": [
    {
     "data": {
      "text/plain": [
       "range(0, 10)"
      ]
     },
     "execution_count": 21,
     "metadata": {},
     "output_type": "execute_result"
    }
   ],
   "source": [
    "r = range(10)\n",
    "\n",
    "r"
   ]
  },
  {
   "cell_type": "code",
   "execution_count": 22,
   "id": "1df1bba4",
   "metadata": {},
   "outputs": [
    {
     "data": {
      "text/plain": [
       "(0, 1, 2, 3, 4, 5, 6, 7, 8, 9)"
      ]
     },
     "execution_count": 22,
     "metadata": {},
     "output_type": "execute_result"
    }
   ],
   "source": [
    "tuple(r) # the range of numbers only creates a range of the quantity of values specified, for example r=10 will print from 0-9\n",
    "# here it is converted into a tuple of integers from 0-9 that are equal to 10 elements."
   ]
  },
  {
   "cell_type": "code",
   "execution_count": 23,
   "id": "fc831e50",
   "metadata": {},
   "outputs": [
    {
     "data": {
      "text/plain": [
       "[0, 1, 2, 3, 4, 5, 6, 7, 8, 9]"
      ]
     },
     "execution_count": 23,
     "metadata": {},
     "output_type": "execute_result"
    }
   ],
   "source": [
    "list(r) #here we converted \"r\" into a list of integers from 0-10 so this could be modified"
   ]
  },
  {
   "cell_type": "code",
   "execution_count": 24,
   "id": "a682886f",
   "metadata": {},
   "outputs": [
    {
     "data": {
      "text/plain": [
       "[2, 3, 4, 5, 6, 7, 8, 9]"
      ]
     },
     "execution_count": 24,
     "metadata": {},
     "output_type": "execute_result"
    }
   ],
   "source": [
    "list(range(2, 10)) #here we create a list starting from 2 to 10 as shown below"
   ]
  },
  {
   "cell_type": "code",
   "execution_count": 25,
   "id": "cabaeb2f",
   "metadata": {},
   "outputs": [
    {
     "data": {
      "text/plain": [
       "[-4, -3, -2, -1, 0, 1, 2, 3, 4, 5, 6, 7]"
      ]
     },
     "execution_count": 25,
     "metadata": {},
     "output_type": "execute_result"
    }
   ],
   "source": [
    "list(range(-4, 8))"
   ]
  },
  {
   "cell_type": "code",
   "execution_count": 26,
   "id": "6f945a5c",
   "metadata": {},
   "outputs": [
    {
     "name": "stdout",
     "output_type": "stream",
     "text": [
      "0\n",
      "1\n",
      "2\n",
      "3\n",
      "4\n",
      "5\n"
     ]
    }
   ],
   "source": [
    "for i in range(6): #we asigned \"i\" the range of 6 items so when is printed it would go from 0-5 in a loop format\n",
    "    print(i)"
   ]
  },
  {
   "cell_type": "code",
   "execution_count": 27,
   "id": "9d691dd5",
   "metadata": {},
   "outputs": [
    {
     "name": "stdout",
     "output_type": "stream",
     "text": [
      "2\n",
      "3\n",
      "4\n",
      "5\n",
      "6\n",
      "7\n"
     ]
    }
   ],
   "source": [
    "for i in range(2, 8):\n",
    "    print(i)"
   ]
  },
  {
   "cell_type": "code",
   "execution_count": 29,
   "id": "5c15b579",
   "metadata": {},
   "outputs": [
    {
     "name": "stdout",
     "output_type": "stream",
     "text": [
      "2\n",
      "4\n",
      "6\n",
      "8\n",
      "10\n"
     ]
    }
   ],
   "source": [
    "for i in range(2, 11, 2): #here we tell the code to start from number 2, go as far as 11 elements (considering 0-10 are 11 elements), and go in steps of 2 \n",
    "    print(i)"
   ]
  },
  {
   "cell_type": "code",
   "execution_count": 30,
   "id": "4d57d0ad",
   "metadata": {},
   "outputs": [
    {
     "name": "stdout",
     "output_type": "stream",
     "text": [
      "2\n",
      "5\n",
      "8\n"
     ]
    }
   ],
   "source": [
    "for i in range (2, 11, 3): #start from 2 all the way to 11 elements and in steps of 3\n",
    "    print(i)"
   ]
  },
  {
   "cell_type": "code",
   "execution_count": 31,
   "id": "bb3e4859",
   "metadata": {},
   "outputs": [
    {
     "name": "stdout",
     "output_type": "stream",
     "text": [
      "Python is great\n",
      "Python is great\n",
      "Python is great\n",
      "Python is great\n",
      "Python is great\n",
      "Python is great\n",
      "Python is great\n"
     ]
    }
   ],
   "source": [
    "for _ in range(7): #this allows us to print the sentence \"python is great\" 7 times in a loop format\n",
    "    print(\"Python is great\")"
   ]
  },
  {
   "cell_type": "code",
   "execution_count": 32,
   "id": "f54903bb",
   "metadata": {},
   "outputs": [],
   "source": [
    "names_ages = {\"Eri\" : 30,\n",
    "              \"Rudy\" : 33,\n",
    "              \"Mg\" : 28}"
   ]
  },
  {
   "cell_type": "code",
   "execution_count": 33,
   "id": "67efc11e",
   "metadata": {},
   "outputs": [
    {
     "name": "stdout",
     "output_type": "stream",
     "text": [
      "Eri\n",
      "Rudy\n",
      "Mg\n"
     ]
    }
   ],
   "source": [
    "for key in names_ages: #here we tell the code just to print the \"key\" (wich are the names) in a loop format\n",
    "    print(key)"
   ]
  },
  {
   "cell_type": "code",
   "execution_count": 37,
   "id": "a663854b",
   "metadata": {},
   "outputs": [
    {
     "name": "stdout",
     "output_type": "stream",
     "text": [
      "Name:  Eri Age:  30\n",
      "Name:  Rudy Age:  33\n",
      "Name:  Mg Age:  28\n"
     ]
    }
   ],
   "source": [
    "for key in names_ages:\n",
    "    print(\"Name: \", key, \"Age: \", names_ages[key])"
   ]
  },
  {
   "cell_type": "code",
   "execution_count": 40,
   "id": "8e06b820",
   "metadata": {},
   "outputs": [
    {
     "data": {
      "text/plain": [
       "dict_keys(['Eri', 'Rudy', 'Mg'])"
      ]
     },
     "execution_count": 40,
     "metadata": {},
     "output_type": "execute_result"
    }
   ],
   "source": [
    "names_ages.keys() #here is how can you visualize all keys in a specific dictionary"
   ]
  },
  {
   "cell_type": "code",
   "execution_count": 41,
   "id": "a8ee1892",
   "metadata": {},
   "outputs": [
    {
     "name": "stdout",
     "output_type": "stream",
     "text": [
      "Eri\n",
      "Rudy\n",
      "Mg\n"
     ]
    }
   ],
   "source": [
    "for key in names_ages.keys(): \n",
    "    print(key)"
   ]
  },
  {
   "cell_type": "code",
   "execution_count": 42,
   "id": "a59c1b50",
   "metadata": {},
   "outputs": [
    {
     "data": {
      "text/plain": [
       "dict_values([30, 33, 28])"
      ]
     },
     "execution_count": 42,
     "metadata": {},
     "output_type": "execute_result"
    }
   ],
   "source": [
    "names_ages.values() #here we type \"values\" function in order to print all values of our dictionary"
   ]
  },
  {
   "cell_type": "code",
   "execution_count": 46,
   "id": "4731c52e",
   "metadata": {},
   "outputs": [
    {
     "name": "stdout",
     "output_type": "stream",
     "text": [
      "30\n",
      "33\n",
      "28\n"
     ]
    }
   ],
   "source": [
    "for val in names_ages.values(): #here we tell the code to print just the values in the dictionary\n",
    "    print(val)"
   ]
  },
  {
   "cell_type": "code",
   "execution_count": 47,
   "id": "05a88a16",
   "metadata": {},
   "outputs": [
    {
     "data": {
      "text/plain": [
       "dict_items([('Eri', 30), ('Rudy', 33), ('Mg', 28)])"
      ]
     },
     "execution_count": 47,
     "metadata": {},
     "output_type": "execute_result"
    }
   ],
   "source": [
    "names_ages.items() #we told our code to print the items of the dictionary. "
   ]
  },
  {
   "cell_type": "code",
   "execution_count": 48,
   "id": "8bf9bfee",
   "metadata": {},
   "outputs": [
    {
     "name": "stdout",
     "output_type": "stream",
     "text": [
      "Eri 30\n",
      "Rudy 33\n",
      "Mg 28\n"
     ]
    }
   ],
   "source": [
    "for key, val in names_ages.items():#here we tell the code to print the keys and the values of the dictionary\n",
    "    print(key, val)\n",
    "    "
   ]
  },
  {
   "cell_type": "code",
   "execution_count": null,
   "id": "d966c4b8",
   "metadata": {},
   "outputs": [],
   "source": []
  },
  {
   "cell_type": "code",
   "execution_count": null,
   "id": "a751b957",
   "metadata": {},
   "outputs": [],
   "source": []
  },
  {
   "cell_type": "code",
   "execution_count": null,
   "id": "62fd2c00",
   "metadata": {},
   "outputs": [],
   "source": []
  },
  {
   "cell_type": "code",
   "execution_count": null,
   "id": "97a51819",
   "metadata": {},
   "outputs": [],
   "source": []
  },
  {
   "cell_type": "code",
   "execution_count": null,
   "id": "9282e79a",
   "metadata": {},
   "outputs": [],
   "source": []
  },
  {
   "cell_type": "code",
   "execution_count": null,
   "id": "7d06b2aa",
   "metadata": {},
   "outputs": [],
   "source": []
  },
  {
   "cell_type": "code",
   "execution_count": null,
   "id": "90faa1ef",
   "metadata": {},
   "outputs": [],
   "source": []
  },
  {
   "cell_type": "code",
   "execution_count": null,
   "id": "a5881211",
   "metadata": {},
   "outputs": [],
   "source": []
  },
  {
   "cell_type": "code",
   "execution_count": null,
   "id": "04cdbeee",
   "metadata": {},
   "outputs": [],
   "source": []
  },
  {
   "cell_type": "code",
   "execution_count": null,
   "id": "146f2dfe",
   "metadata": {},
   "outputs": [],
   "source": []
  },
  {
   "cell_type": "code",
   "execution_count": null,
   "id": "47d9a843",
   "metadata": {},
   "outputs": [],
   "source": []
  },
  {
   "cell_type": "code",
   "execution_count": null,
   "id": "45e3f1a4",
   "metadata": {},
   "outputs": [],
   "source": []
  },
  {
   "cell_type": "code",
   "execution_count": null,
   "id": "aebc342e",
   "metadata": {},
   "outputs": [],
   "source": []
  },
  {
   "cell_type": "code",
   "execution_count": null,
   "id": "c774ce66",
   "metadata": {},
   "outputs": [],
   "source": []
  },
  {
   "cell_type": "code",
   "execution_count": null,
   "id": "f6bb838b",
   "metadata": {},
   "outputs": [],
   "source": []
  },
  {
   "cell_type": "code",
   "execution_count": null,
   "id": "b0cfafc8",
   "metadata": {},
   "outputs": [],
   "source": []
  },
  {
   "cell_type": "code",
   "execution_count": null,
   "id": "3fcfa438",
   "metadata": {},
   "outputs": [],
   "source": []
  }
 ],
 "metadata": {
  "kernelspec": {
   "display_name": "Python 3 (ipykernel)",
   "language": "python",
   "name": "python3"
  },
  "language_info": {
   "codemirror_mode": {
    "name": "ipython",
    "version": 3
   },
   "file_extension": ".py",
   "mimetype": "text/x-python",
   "name": "python",
   "nbconvert_exporter": "python",
   "pygments_lexer": "ipython3",
   "version": "3.9.12"
  }
 },
 "nbformat": 4,
 "nbformat_minor": 5
}
