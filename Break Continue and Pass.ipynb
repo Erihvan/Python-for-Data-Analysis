{
 "cells": [
  {
   "cell_type": "code",
   "execution_count": 1,
   "id": "67c1eade",
   "metadata": {},
   "outputs": [],
   "source": [
    "lures = [\"popper\", \"buzz jig\", \"spinner bait\", \"crankbait\", \"senko\"]"
   ]
  },
  {
   "cell_type": "code",
   "execution_count": 2,
   "id": "a46bfca7",
   "metadata": {},
   "outputs": [
    {
     "name": "stdout",
     "output_type": "stream",
     "text": [
      "popper\n"
     ]
    }
   ],
   "source": [
    "for lure in lures: #here we assigned the name \"lure\" to each item inside the list \"lures\" \n",
    "    \n",
    "    print(lure)\n",
    "    \n",
    "    break #this is how we stop a loop interaction by typing \"break\" "
   ]
  },
  {
   "cell_type": "code",
   "execution_count": 7,
   "id": "704c0ec1",
   "metadata": {},
   "outputs": [
    {
     "name": "stdout",
     "output_type": "stream",
     "text": [
      "popper\n",
      "buzz jig\n",
      "spinner bait\n",
      "Este es el maton:  spinner bait\n"
     ]
    }
   ],
   "source": [
    "for lure in lures:\n",
    "    print(lure)\n",
    "    \n",
    "    if lure == \"spinner bait\": #here we can see that the loop would go on and on until \"lure\" matches \"spinner bait\" and once it finds it and the statement becomes True, it would print the message\n",
    "        print(\"Este es el maton: \", lure)\n",
    "        break #and the loop would stop... we can take off \"break\" but then it will loop for the other items in the list"
   ]
  },
  {
   "cell_type": "code",
   "execution_count": 8,
   "id": "0eff8712",
   "metadata": {},
   "outputs": [
    {
     "data": {
      "text/plain": [
       "'spinner bait'"
      ]
     },
     "execution_count": 8,
     "metadata": {},
     "output_type": "execute_result"
    }
   ],
   "source": [
    "lure #the value in \"lure\" would be equal to \"spinner bait\" because it is looping until the condition is found"
   ]
  },
  {
   "cell_type": "code",
   "execution_count": 12,
   "id": "75df8a57",
   "metadata": {},
   "outputs": [
    {
     "name": "stdout",
     "output_type": "stream",
     "text": [
      "Still within the for loop:  popper\n",
      "Still within the for loop:  buzz jig\n",
      "Still within the for loop:  spinner bait\n",
      "Este es el chingon:  crankbait\n"
     ]
    }
   ],
   "source": [
    "for lure in lures:\n",
    "    if lure == \"crankbait\":\n",
    "        print(\"Este es el chingon: \", lure) #here the condition is True so thats why it prints the message and once is accomplished it breaks the loop\n",
    "        break\n",
    "    print(\"Still within the for loop: \", lure) #here we are telling the code, even though the condition \"lure == crankbait\" it is not true... print the message and the item inside the list."
   ]
  },
  {
   "cell_type": "code",
   "execution_count": 13,
   "id": "93557db1",
   "metadata": {},
   "outputs": [
    {
     "name": "stdout",
     "output_type": "stream",
     "text": [
      "Checking ... 100\n",
      "nel mijo se la pelukas no es multiplo de 3 .|.\n",
      "Checking ... 34\n",
      "nel mijo se la pelukas no es multiplo de 3 .|.\n",
      "Checking ... 67\n",
      "nel mijo se la pelukas no es multiplo de 3 .|.\n",
      "Checking ... 89\n",
      "nel mijo se la pelukas no es multiplo de 3 .|.\n",
      "Checking ... 78\n",
      "It is divisible by 3 - ahuevo\n"
     ]
    }
   ],
   "source": [
    "numbers = [100, 34, 67, 89, 78, 21, 36]\n",
    "\n",
    "for num in numbers:\n",
    "    \n",
    "    print(\"Checking ...\", num)\n",
    "    \n",
    "    if num % 3 == 0: #here we use the remain (%) simbol that as long as is equal to 0 it means that it is divisible by 3 because it has no remains\n",
    "        print(\"It is divisible by 3 - ahuevo\")\n",
    "        break\n",
    "    print(\"nel mijo se la pelukas no es multiplo de 3 .|.\") # here we can see the numbers are not multiples of 3 thats why the loop goes on and on until the condition is achieved"
   ]
  },
  {
   "cell_type": "code",
   "execution_count": 15,
   "id": "dc76740c",
   "metadata": {},
   "outputs": [],
   "source": [
    "lures = [\"popper\", \"buzz jig\", \"spinner bait\", \"crankbait\", \"senko\"]"
   ]
  },
  {
   "cell_type": "code",
   "execution_count": 16,
   "id": "0d1dc058",
   "metadata": {},
   "outputs": [
    {
     "name": "stdout",
     "output_type": "stream",
     "text": [
      "popper\n",
      "buzz jig\n",
      "crankbait\n",
      "senko\n"
     ]
    }
   ],
   "source": [
    "for lure in lures:\n",
    "    if lure == \"spinner bait\":\n",
    "        continue #the continue function just skips the interaction of the loop and continues with the loop, so in this case the lure \"spinner bait\" is basically removed from the print     \n",
    "    \n",
    "    print(lure)"
   ]
  },
  {
   "cell_type": "code",
   "execution_count": 17,
   "id": "4734974c",
   "metadata": {},
   "outputs": [
    {
     "name": "stdout",
     "output_type": "stream",
     "text": [
      "1\n",
      "3\n",
      "5\n",
      "7\n",
      "9\n"
     ]
    }
   ],
   "source": [
    "for i in range (10):\n",
    "    \n",
    "    if i % 2 == 0: #so, here we are telling the code that for \"i\" if the remain value is equal to \"0\" then \"continue\" the loop or in other words skip the loop interaction\n",
    "        continue\n",
    "        \n",
    "    print(i) #so if we print this statements and because of the \"continue\" keyword it would loop numbers that are not divisible by 2"
   ]
  },
  {
   "cell_type": "code",
   "execution_count": 18,
   "id": "90b52e93",
   "metadata": {},
   "outputs": [
    {
     "name": "stdout",
     "output_type": "stream",
     "text": [
      "10\n",
      "11\n",
      "12\n",
      "17\n",
      "18\n",
      "19\n",
      "20\n"
     ]
    }
   ],
   "source": [
    "for i in range(10, 21):\n",
    "    if i >= 13 and i <= 16: #so here we are telling the code the condition that must evaluate\n",
    "        continue #with the \"continue\" keyword we are telling the code to omit those numbers (13-16)\n",
    "    else:\n",
    "        print(i) #so as long the condition is not True, it would print the numbers that does not accomplish the True statement\n",
    "        #it is pretty clear to see how numbers from 13-16 are not on the list due to the \"continue\" keyword"
   ]
  },
  {
   "cell_type": "code",
   "execution_count": 19,
   "id": "4ddb2222",
   "metadata": {},
   "outputs": [
    {
     "name": "stdout",
     "output_type": "stream",
     "text": [
      "10\n",
      "11\n",
      "12\n"
     ]
    }
   ],
   "source": [
    "for i in range(10, 21):\n",
    "    if i >= 13 and i <= 16: \n",
    "        break #we can apply the same code before but with a \"break\" keyword and it would stop immediatly the loop just printing 10, 11 and 12\n",
    "    else:\n",
    "        print(i) "
   ]
  },
  {
   "cell_type": "code",
   "execution_count": 21,
   "id": "ff6d51c7",
   "metadata": {},
   "outputs": [],
   "source": [
    "for i in range(10, 21):\n",
    "    pass #the \"pass\" keyword is a way to tell the code just to \"go thru\" and ignore any condition..."
   ]
  },
  {
   "cell_type": "code",
   "execution_count": 23,
   "id": "1b88f999",
   "metadata": {},
   "outputs": [
    {
     "name": "stdout",
     "output_type": "stream",
     "text": [
      "10\n",
      "11\n",
      "12\n",
      "17\n",
      "18\n",
      "19\n",
      "20\n"
     ]
    }
   ],
   "source": [
    "for i in range(10, 21):\n",
    "    if i >= 13 and i <= 16: \n",
    "        pass #here with the \"pass\" keyword we are telling the code to go over the conditionals \n",
    "    else:\n",
    "        print(i) #so, the numbers from 13 to 16 would not be printed"
   ]
  },
  {
   "cell_type": "code",
   "execution_count": null,
   "id": "99891e6a",
   "metadata": {},
   "outputs": [],
   "source": []
  },
  {
   "cell_type": "code",
   "execution_count": null,
   "id": "c950d248",
   "metadata": {},
   "outputs": [],
   "source": []
  },
  {
   "cell_type": "code",
   "execution_count": null,
   "id": "a1258b1d",
   "metadata": {},
   "outputs": [],
   "source": []
  },
  {
   "cell_type": "code",
   "execution_count": null,
   "id": "77f70ae6",
   "metadata": {},
   "outputs": [],
   "source": []
  },
  {
   "cell_type": "code",
   "execution_count": null,
   "id": "7bc63baa",
   "metadata": {},
   "outputs": [],
   "source": []
  },
  {
   "cell_type": "code",
   "execution_count": null,
   "id": "d1ded6f7",
   "metadata": {},
   "outputs": [],
   "source": []
  },
  {
   "cell_type": "code",
   "execution_count": null,
   "id": "46ea91ff",
   "metadata": {},
   "outputs": [],
   "source": []
  },
  {
   "cell_type": "code",
   "execution_count": null,
   "id": "d743b0ee",
   "metadata": {},
   "outputs": [],
   "source": []
  },
  {
   "cell_type": "code",
   "execution_count": null,
   "id": "d9e27bd5",
   "metadata": {},
   "outputs": [],
   "source": []
  }
 ],
 "metadata": {
  "kernelspec": {
   "display_name": "Python 3 (ipykernel)",
   "language": "python",
   "name": "python3"
  },
  "language_info": {
   "codemirror_mode": {
    "name": "ipython",
    "version": 3
   },
   "file_extension": ".py",
   "mimetype": "text/x-python",
   "name": "python",
   "nbconvert_exporter": "python",
   "pygments_lexer": "ipython3",
   "version": "3.9.12"
  }
 },
 "nbformat": 4,
 "nbformat_minor": 5
}
