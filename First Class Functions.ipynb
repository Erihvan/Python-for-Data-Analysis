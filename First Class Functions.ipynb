{
 "cells": [
  {
   "cell_type": "code",
   "execution_count": 1,
   "id": "8420f8c9",
   "metadata": {},
   "outputs": [],
   "source": [
    "def my_car(car):\n",
    "    print(\"my car is a\", car)"
   ]
  },
  {
   "cell_type": "code",
   "execution_count": 2,
   "id": "fded71db",
   "metadata": {},
   "outputs": [
    {
     "name": "stdout",
     "output_type": "stream",
     "text": [
      "my car is a Cheyenne\n"
     ]
    }
   ],
   "source": [
    "my_car(\"Cheyenne\")"
   ]
  },
  {
   "cell_type": "code",
   "execution_count": 3,
   "id": "e0e70ebb",
   "metadata": {},
   "outputs": [
    {
     "data": {
      "text/plain": [
       "<function __main__.my_car(car)>"
      ]
     },
     "execution_count": 3,
     "metadata": {},
     "output_type": "execute_result"
    }
   ],
   "source": [
    "my_car #this is a funtion oriented to an object in this case a \"car\""
   ]
  },
  {
   "cell_type": "code",
   "execution_count": 4,
   "id": "40a299b6",
   "metadata": {},
   "outputs": [],
   "source": [
    "# You can also assign this function to a variable just like you would in other interactions for example:"
   ]
  },
  {
   "cell_type": "code",
   "execution_count": 6,
   "id": "bd38cdc7",
   "metadata": {},
   "outputs": [],
   "source": [
    "car_fn = my_car"
   ]
  },
  {
   "cell_type": "code",
   "execution_count": 7,
   "id": "25a0b5c6",
   "metadata": {},
   "outputs": [
    {
     "name": "stdout",
     "output_type": "stream",
     "text": [
      "my car is a Leon\n"
     ]
    }
   ],
   "source": [
    "car_fn(\"Leon\") #so we can modify the string just like any other because the funciton is now the same as the variable \"car_fn\""
   ]
  },
  {
   "cell_type": "code",
   "execution_count": 8,
   "id": "9f718d1f",
   "metadata": {},
   "outputs": [],
   "source": [
    "maximum = max #so here is other example of a function \"max\" assigned within a variable called \"maximum\" "
   ]
  },
  {
   "cell_type": "code",
   "execution_count": 9,
   "id": "edf3c797",
   "metadata": {},
   "outputs": [
    {
     "data": {
      "text/plain": [
       "9678"
      ]
     },
     "execution_count": 9,
     "metadata": {},
     "output_type": "execute_result"
    }
   ],
   "source": [
    "num_list = [56, 54, 8, 9678, 987, 7] \n",
    "\n",
    "maximum(num_list) #so when we type the variable \"maximum\" and the name of the list in this case \"num_list\" it will perform the function equivalent \"max\" "
   ]
  },
  {
   "cell_type": "code",
   "execution_count": 10,
   "id": "3fdf8f96",
   "metadata": {},
   "outputs": [
    {
     "data": {
      "text/plain": [
       "True"
      ]
     },
     "execution_count": 10,
     "metadata": {},
     "output_type": "execute_result"
    }
   ],
   "source": [
    "maximum == max #we can prove that both the variable and the function are the same assignment due to a boolean test that shows us \"True\" result"
   ]
  },
  {
   "cell_type": "code",
   "execution_count": null,
   "id": "43934d61",
   "metadata": {},
   "outputs": [],
   "source": []
  },
  {
   "cell_type": "code",
   "execution_count": 29,
   "id": "b89a5274",
   "metadata": {},
   "outputs": [],
   "source": [
    "def calculate_GST(price, type_of_item): #here is an example of a multiple assignment in wich we have to add a percentage in taxes dependign of the product\n",
    "    if type_of_item == \"Product\":\n",
    "        return price * 1.05 #Here we are telling our code to add a 5% if the item is a \"Product\"\n",
    "    \n",
    "    elif type_of_item == \"Service\":\n",
    "        return price * 1.18 # Here we are telling our code to add a 18% if the item is a \"Service\"\n",
    "    \n",
    "    return price * 1.35 #Here we are telling our code that if it is any of the past 2 options just add a 35% taxes"
   ]
  },
  {
   "cell_type": "code",
   "execution_count": 24,
   "id": "8fd9d002",
   "metadata": {},
   "outputs": [],
   "source": [
    "def calculate_VAT(price, type_of_item):\n",
    "    \n",
    "    return price * 1.2"
   ]
  },
  {
   "cell_type": "code",
   "execution_count": 30,
   "id": "e6633f1b",
   "metadata": {},
   "outputs": [],
   "source": [
    "type_of_tax = calculate_GST #Here is where we assigned the function a variable name \"type of tax\" so it is easy to input values in the order is assigned."
   ]
  },
  {
   "cell_type": "code",
   "execution_count": 17,
   "id": "10098d56",
   "metadata": {},
   "outputs": [
    {
     "data": {
      "text/plain": [
       "1050.0"
      ]
     },
     "execution_count": 17,
     "metadata": {},
     "output_type": "execute_result"
    }
   ],
   "source": [
    "type_of_tax(1000, \"Product\") #So as we can see, we just use \"type_of_tax\" variable that is assigned to the original function \"calculate_GTS\" and we type the input values in the same order it is originally established \"price, type of item\"\n",
    "\n",
    "#So as a result we can see that 1000 has an adition of 5% because it is a \"Product\""
   ]
  },
  {
   "cell_type": "code",
   "execution_count": 18,
   "id": "6dbadea0",
   "metadata": {},
   "outputs": [
    {
     "data": {
      "text/plain": [
       "1180.0"
      ]
     },
     "execution_count": 18,
     "metadata": {},
     "output_type": "execute_result"
    }
   ],
   "source": [
    "type_of_tax(1000, \"Service\") #the same as before but now it has an aditional 18% because it is a \"Service\""
   ]
  },
  {
   "cell_type": "code",
   "execution_count": 20,
   "id": "33dd05e8",
   "metadata": {},
   "outputs": [
    {
     "data": {
      "text/plain": [
       "1350.0"
      ]
     },
     "execution_count": 20,
     "metadata": {},
     "output_type": "execute_result"
    }
   ],
   "source": [
    "type_of_tax(1000, 0) # In this case is not a product neither a service so it has an addition of 35%"
   ]
  },
  {
   "cell_type": "markdown",
   "id": "9811e38a",
   "metadata": {},
   "source": [
    "So now we can assing to the same variable \"type_of_tax\" other function like \"calculate_VAT\" for example:\n"
   ]
  },
  {
   "cell_type": "code",
   "execution_count": 21,
   "id": "7678c428",
   "metadata": {},
   "outputs": [],
   "source": [
    "type_of_tax = calculate_VAT"
   ]
  },
  {
   "cell_type": "code",
   "execution_count": 25,
   "id": "a8a4f2f7",
   "metadata": {},
   "outputs": [
    {
     "data": {
      "text/plain": [
       "1200.0"
      ]
     },
     "execution_count": 25,
     "metadata": {},
     "output_type": "execute_result"
    }
   ],
   "source": [
    "type_of_tax(1000,\"Product\") #Here we can see that is doing the addition of 20% as we told the code to do so in this function"
   ]
  },
  {
   "cell_type": "code",
   "execution_count": 26,
   "id": "1724fc9a",
   "metadata": {},
   "outputs": [
    {
     "data": {
      "text/plain": [
       "1200.0"
      ]
     },
     "execution_count": 26,
     "metadata": {},
     "output_type": "execute_result"
    }
   ],
   "source": [
    "type_of_tax(1000,\"Service\") #and the same goes if it is a Service, it wouldnt matter because the function does not discriminates the type of tax"
   ]
  },
  {
   "cell_type": "code",
   "execution_count": 31,
   "id": "7da40938",
   "metadata": {},
   "outputs": [],
   "source": [
    "def find_tax_calculator(type_of_tax): #here we assign a variable that contains a funtion another variable in order to make the code more simple\n",
    "    \n",
    "    if type_of_tax == \"GST\": # here we are telling our code to look for \"GTS\" and return the funcion assigned \"calculate_GST\"\n",
    "        return calculate_GST\n",
    "    \n",
    "    elif type_of_tax == \"VAT\": # here we are telling our code to look otherwise for \"VAT\" and return the funcion assigned \"calculate_VAT\"\n",
    "        return calculate_VAT"
   ]
  },
  {
   "cell_type": "code",
   "execution_count": 32,
   "id": "76b396e0",
   "metadata": {},
   "outputs": [
    {
     "data": {
      "text/plain": [
       "<function __main__.calculate_GST(price, type_of_item)>"
      ]
     },
     "execution_count": 32,
     "metadata": {},
     "output_type": "execute_result"
    }
   ],
   "source": [
    "gst_fn = find_tax_calculator(\"GST\") #and once again here we re-assinged the variable \"find_tax_calculator\" the variable name of gst_fn\n",
    "\n",
    "gst_fn #So when we show this function \"gst_fn\" we have the code syntaxis"
   ]
  },
  {
   "cell_type": "code",
   "execution_count": 35,
   "id": "e129ec16",
   "metadata": {},
   "outputs": [
    {
     "data": {
      "text/plain": [
       "<function __main__.calculate_VAT(price, type_of_item)>"
      ]
     },
     "execution_count": 35,
     "metadata": {},
     "output_type": "execute_result"
    }
   ],
   "source": [
    "vat_fn = find_tax_calculator(\"VAT\") #and once again here we re-assinged the variable \"find_tax_calculator\" the variable name of vat_fn\n",
    "\n",
    "\n",
    "vat_fn #So when we show this function \"vat_fn\" we have the code syntaxis"
   ]
  },
  {
   "cell_type": "code",
   "execution_count": 36,
   "id": "ffa1f630",
   "metadata": {},
   "outputs": [
    {
     "data": {
      "text/plain": [
       "1050.0"
      ]
     },
     "execution_count": 36,
     "metadata": {},
     "output_type": "execute_result"
    }
   ],
   "source": [
    "gst_fn(1000, \"Product\") # and now we can see it has the additional 5% into 1000 because it is a GST and a \"Product\" "
   ]
  },
  {
   "cell_type": "code",
   "execution_count": 38,
   "id": "f0578ef9",
   "metadata": {},
   "outputs": [
    {
     "data": {
      "text/plain": [
       "1200.0"
      ]
     },
     "execution_count": 38,
     "metadata": {},
     "output_type": "execute_result"
    }
   ],
   "source": [
    "vat_fn(1000, \"Product\") # and now we jave the addiotional 20% into 1000 because it is a VAT and it has a straight addition no matter wheather is a \"Product\" or a \"Service\""
   ]
  },
  {
   "cell_type": "code",
   "execution_count": 42,
   "id": "5a9020cd",
   "metadata": {},
   "outputs": [],
   "source": [
    "def get_price_plus_taxes(price, type_of_items, tax_fn):\n",
    "    \n",
    "    return tax_fn(price, type_of_items)"
   ]
  },
  {
   "cell_type": "code",
   "execution_count": 43,
   "id": "b6db270e",
   "metadata": {},
   "outputs": [
    {
     "data": {
      "text/plain": [
       "2100.0"
      ]
     },
     "execution_count": 43,
     "metadata": {},
     "output_type": "execute_result"
    }
   ],
   "source": [
    "get_price_plus_taxes(2000, \"Product\", tax_fn = calculate_GST)"
   ]
  },
  {
   "cell_type": "code",
   "execution_count": 44,
   "id": "2e58f8f5",
   "metadata": {},
   "outputs": [
    {
     "data": {
      "text/plain": [
       "2400.0"
      ]
     },
     "execution_count": 44,
     "metadata": {},
     "output_type": "execute_result"
    }
   ],
   "source": [
    "get_price_plus_taxes(2000, \"Product\", tax_fn = calculate_VAT)"
   ]
  },
  {
   "cell_type": "code",
   "execution_count": null,
   "id": "72b9b05f",
   "metadata": {},
   "outputs": [],
   "source": []
  },
  {
   "cell_type": "code",
   "execution_count": null,
   "id": "03aea9df",
   "metadata": {},
   "outputs": [],
   "source": []
  },
  {
   "cell_type": "code",
   "execution_count": null,
   "id": "221587a0",
   "metadata": {},
   "outputs": [],
   "source": []
  },
  {
   "cell_type": "code",
   "execution_count": null,
   "id": "52d698df",
   "metadata": {},
   "outputs": [],
   "source": []
  },
  {
   "cell_type": "code",
   "execution_count": null,
   "id": "9f3a6694",
   "metadata": {},
   "outputs": [],
   "source": []
  },
  {
   "cell_type": "code",
   "execution_count": null,
   "id": "70eafae1",
   "metadata": {},
   "outputs": [],
   "source": []
  }
 ],
 "metadata": {
  "kernelspec": {
   "display_name": "Python 3 (ipykernel)",
   "language": "python",
   "name": "python3"
  },
  "language_info": {
   "codemirror_mode": {
    "name": "ipython",
    "version": 3
   },
   "file_extension": ".py",
   "mimetype": "text/x-python",
   "name": "python",
   "nbconvert_exporter": "python",
   "pygments_lexer": "ipython3",
   "version": "3.9.12"
  }
 },
 "nbformat": 4,
 "nbformat_minor": 5
}
