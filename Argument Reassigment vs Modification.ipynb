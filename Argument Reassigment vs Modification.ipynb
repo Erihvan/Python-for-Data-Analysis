{
 "cells": [
  {
   "cell_type": "code",
   "execution_count": 1,
   "id": "c07a9500",
   "metadata": {},
   "outputs": [],
   "source": [
    "int_var = 3 #this is an example of simple python data type and this are global variables\n",
    "float_var = 3.3\n",
    "string_var = \"Hello\"\n",
    "bool_var = True"
   ]
  },
  {
   "cell_type": "code",
   "execution_count": 5,
   "id": "52ab4503",
   "metadata": {},
   "outputs": [],
   "source": [
    "def reassign_arguments_basictypes(int_var, float_var, string_var, bool_var):\n",
    "    int_var = 30 # here is were we change the variables values, once we changed de values this are inside the defined function so are local variables\n",
    "    float_var = 30.3\n",
    "    string_var = \"goodbye\"\n",
    "    bool_var = False\n",
    "    \n",
    "    print(\"inside the function: \", int_var, float_var, string_var, bool_var)"
   ]
  },
  {
   "cell_type": "code",
   "execution_count": 4,
   "id": "25c5530d",
   "metadata": {},
   "outputs": [
    {
     "name": "stdout",
     "output_type": "stream",
     "text": [
      "outside the function:  3 3.3 Hello True\n"
     ]
    }
   ],
   "source": [
    "print(\"outside the function: \", int_var, float_var, string_var, bool_var) #this is are the values of global variables"
   ]
  },
  {
   "cell_type": "code",
   "execution_count": 6,
   "id": "3c0a194b",
   "metadata": {},
   "outputs": [
    {
     "name": "stdout",
     "output_type": "stream",
     "text": [
      "inside the function:  30 30.3 goodbye False\n"
     ]
    }
   ],
   "source": [
    "reassign_arguments_basictypes(int_var, float_var, string_var, bool_var) #this are the values of local variables or the ones we changed lately"
   ]
  },
  {
   "cell_type": "code",
   "execution_count": 7,
   "id": "025cbdff",
   "metadata": {},
   "outputs": [],
   "source": [
    "some_list = [\"John\", \"Mary\"]\n",
    "some_tuple = (\"John\", \"Mary\")\n",
    "some_dictionary = {\"John\": 50, \"Mary\": 55}"
   ]
  },
  {
   "cell_type": "code",
   "execution_count": 12,
   "id": "c66fb02d",
   "metadata": {},
   "outputs": [],
   "source": [
    "def reassign_arguments_complextypes(some_list, some_tuple, some_dictionary):\n",
    "    some_list = [\"Alice\"]\n",
    "    some_tuple = (\"Alice\")\n",
    "    some_dictionary = {\"Alice\": 25}\n",
    "\n",
    "    print(\"Inside the function:\", some_list, some_tuple, some_dictionary)"
   ]
  },
  {
   "cell_type": "code",
   "execution_count": 13,
   "id": "f0f21690",
   "metadata": {},
   "outputs": [
    {
     "name": "stdout",
     "output_type": "stream",
     "text": [
      "Outside the function: ['John', 'Mary'] ('John', 'Mary') {'John': 50, 'Mary': 55}\n"
     ]
    }
   ],
   "source": [
    "print(\"Outside the function:\", some_list, some_tuple, some_dictionary) #this is the global variable"
   ]
  },
  {
   "cell_type": "code",
   "execution_count": 14,
   "id": "ff671c3b",
   "metadata": {},
   "outputs": [
    {
     "name": "stdout",
     "output_type": "stream",
     "text": [
      "Inside the function: ['Alice'] Alice {'Alice': 25}\n"
     ]
    }
   ],
   "source": [
    "reassign_arguments_complextypes(some_list, some_tuple, some_dictionary) #this is the local variable"
   ]
  },
  {
   "cell_type": "code",
   "execution_count": null,
   "id": "bda03e63",
   "metadata": {},
   "outputs": [],
   "source": [
    "# append funciton"
   ]
  },
  {
   "cell_type": "code",
   "execution_count": 25,
   "id": "5c22ea94",
   "metadata": {},
   "outputs": [],
   "source": [
    "popular_baits = [\"Senko\", \"Popper\", \"Xrap\", \"Crankbait\", \"Curly tail\"] #here we have a list of popular bass fishing baits"
   ]
  },
  {
   "cell_type": "code",
   "execution_count": 26,
   "id": "54391ba5",
   "metadata": {},
   "outputs": [],
   "source": [
    "def modify_list(popular_baits): #we define a argument in order to modify the list and add new values\n",
    "    popular_baits.append(\"Spinner bait\") #the \"append\" function helps us to add new values"
   ]
  },
  {
   "cell_type": "code",
   "execution_count": 27,
   "id": "af393b19",
   "metadata": {},
   "outputs": [],
   "source": [
    "modify_list(popular_baits) #here is were we declare the changes made in the global variable "
   ]
  },
  {
   "cell_type": "code",
   "execution_count": 28,
   "id": "470bafbb",
   "metadata": {},
   "outputs": [
    {
     "data": {
      "text/plain": [
       "['Senko', 'Popper', 'Xrap', 'Crankbait', 'Curly tail', 'Spinner bait']"
      ]
     },
     "execution_count": 28,
     "metadata": {},
     "output_type": "execute_result"
    }
   ],
   "source": [
    "popular_baits #so when we print this, we can observe that \"spinner bait\" is already inside the list"
   ]
  },
  {
   "cell_type": "code",
   "execution_count": 29,
   "id": "867ee15b",
   "metadata": {},
   "outputs": [],
   "source": [
    "# Here we are going to make and example of how to modify a more complex data type (dictrionary) so we have the keys (names of lures) and the values (amount of each lure in our tackle box)"
   ]
  },
  {
   "cell_type": "code",
   "execution_count": 37,
   "id": "070b2175",
   "metadata": {},
   "outputs": [],
   "source": [
    "popular_baits = {\"Senko\": 5, \n",
    "                 \"Popper\": 3, \n",
    "                 \"Xrap\": 2, \n",
    "                 \"Crankbait\": 4, \n",
    "                 \"Spinner bait\": 10}"
   ]
  },
  {
   "cell_type": "code",
   "execution_count": 38,
   "id": "ae24874e",
   "metadata": {},
   "outputs": [],
   "source": [
    "def modify_dict(popular_baits): #we are telling our code to modify the dictionary with \"modify_dict\" function in \"popular baits\" dictionary\n",
    "    del popular_baits[\"Spinner bait\"] #now we tell the code to delete the key \"Curly tail \" in our dictrionary \"popular_baits\"\n",
    "    \n",
    "    popular_baits [\"Zara Spook\"] = 2 #now we tell the code to replace the deleted key with a new key \"Zara spook\" with the value of \"2\""
   ]
  },
  {
   "cell_type": "code",
   "execution_count": 39,
   "id": "a7622259",
   "metadata": {},
   "outputs": [
    {
     "data": {
      "text/plain": [
       "{'Senko': 5, 'Popper': 3, 'Xrap': 2, 'Crankbait': 4, 'Zara Spook': 2}"
      ]
     },
     "execution_count": 39,
     "metadata": {},
     "output_type": "execute_result"
    }
   ],
   "source": [
    "modify_dict(popular_baits)\n",
    "\n",
    "popular_baits"
   ]
  },
  {
   "cell_type": "code",
   "execution_count": null,
   "id": "38008151",
   "metadata": {},
   "outputs": [],
   "source": []
  },
  {
   "cell_type": "code",
   "execution_count": null,
   "id": "17b0fe0d",
   "metadata": {},
   "outputs": [],
   "source": []
  },
  {
   "cell_type": "code",
   "execution_count": null,
   "id": "70fdc004",
   "metadata": {},
   "outputs": [],
   "source": []
  },
  {
   "cell_type": "code",
   "execution_count": null,
   "id": "f905dbcc",
   "metadata": {},
   "outputs": [],
   "source": []
  },
  {
   "cell_type": "code",
   "execution_count": null,
   "id": "4ead6a13",
   "metadata": {},
   "outputs": [],
   "source": []
  },
  {
   "cell_type": "code",
   "execution_count": null,
   "id": "5f142171",
   "metadata": {},
   "outputs": [],
   "source": []
  },
  {
   "cell_type": "code",
   "execution_count": null,
   "id": "385be3f9",
   "metadata": {},
   "outputs": [],
   "source": []
  },
  {
   "cell_type": "code",
   "execution_count": null,
   "id": "92f1e1e0",
   "metadata": {},
   "outputs": [],
   "source": []
  },
  {
   "cell_type": "code",
   "execution_count": null,
   "id": "3020a056",
   "metadata": {},
   "outputs": [],
   "source": []
  }
 ],
 "metadata": {
  "kernelspec": {
   "display_name": "Python 3 (ipykernel)",
   "language": "python",
   "name": "python3"
  },
  "language_info": {
   "codemirror_mode": {
    "name": "ipython",
    "version": 3
   },
   "file_extension": ".py",
   "mimetype": "text/x-python",
   "name": "python",
   "nbconvert_exporter": "python",
   "pygments_lexer": "ipython3",
   "version": "3.9.12"
  }
 },
 "nbformat": 4,
 "nbformat_minor": 5
}
