{
 "cells": [
  {
   "cell_type": "code",
   "execution_count": 1,
   "id": "cf6b6f80",
   "metadata": {},
   "outputs": [
    {
     "name": "stdout",
     "output_type": "stream",
     "text": [
      "Hello!\n"
     ]
    }
   ],
   "source": [
    "print(\"Hello!\")"
   ]
  },
  {
   "cell_type": "code",
   "execution_count": 2,
   "id": "791e613e",
   "metadata": {},
   "outputs": [
    {
     "data": {
      "text/plain": [
       "5"
      ]
     },
     "execution_count": 2,
     "metadata": {},
     "output_type": "execute_result"
    }
   ],
   "source": [
    "len(\"hello\")"
   ]
  },
  {
   "cell_type": "code",
   "execution_count": 3,
   "id": "7181bde1",
   "metadata": {},
   "outputs": [
    {
     "data": {
      "text/plain": [
       "20"
      ]
     },
     "execution_count": 3,
     "metadata": {},
     "output_type": "execute_result"
    }
   ],
   "source": [
    "num_list =[2,4,6,8]\n",
    "\n",
    "sum(num_list)"
   ]
  },
  {
   "cell_type": "code",
   "execution_count": 4,
   "id": "eafdd221",
   "metadata": {},
   "outputs": [
    {
     "data": {
      "text/plain": [
       "10"
      ]
     },
     "execution_count": 4,
     "metadata": {},
     "output_type": "execute_result"
    }
   ],
   "source": [
    "abs(-10) #this are just examples of defined functions"
   ]
  },
  {
   "cell_type": "code",
   "execution_count": 5,
   "id": "3d415894",
   "metadata": {},
   "outputs": [],
   "source": [
    "def do_something(): # always in defined funcion you must put \"def\" and the name of your function next to the parenthesis () and colon : in order to tell the funtion what to do next\n",
    "    pass          # here is a pass function so it wouldnt do nothing"
   ]
  },
  {
   "cell_type": "code",
   "execution_count": 6,
   "id": "bd9e45ad",
   "metadata": {},
   "outputs": [],
   "source": [
    "def greet():\n",
    "    print(\"good morning to you!\")"
   ]
  },
  {
   "cell_type": "code",
   "execution_count": 7,
   "id": "db8542e5",
   "metadata": {},
   "outputs": [
    {
     "name": "stdout",
     "output_type": "stream",
     "text": [
      "good morning to you!\n"
     ]
    }
   ],
   "source": [
    "greet()"
   ]
  },
  {
   "cell_type": "code",
   "execution_count": 8,
   "id": "8e843bec",
   "metadata": {},
   "outputs": [],
   "source": [
    "def say_hello():\n",
    "    print(\"Hello there!\")"
   ]
  },
  {
   "cell_type": "code",
   "execution_count": 9,
   "id": "d1b7314b",
   "metadata": {},
   "outputs": [
    {
     "name": "stdout",
     "output_type": "stream",
     "text": [
      "Hello there!\n"
     ]
    }
   ],
   "source": [
    "say_hello()"
   ]
  },
  {
   "cell_type": "code",
   "execution_count": 10,
   "id": "f811557f",
   "metadata": {},
   "outputs": [
    {
     "ename": "NameError",
     "evalue": "name 'some_var' is not defined",
     "output_type": "error",
     "traceback": [
      "\u001b[1;31m---------------------------------------------------------------------------\u001b[0m",
      "\u001b[1;31mNameError\u001b[0m                                 Traceback (most recent call last)",
      "Input \u001b[1;32mIn [10]\u001b[0m, in \u001b[0;36m<cell line: 1>\u001b[1;34m()\u001b[0m\n\u001b[1;32m----> 1\u001b[0m \u001b[38;5;28mprint\u001b[39m(\u001b[43msome_var\u001b[49m)\n",
      "\u001b[1;31mNameError\u001b[0m: name 'some_var' is not defined"
     ]
    }
   ],
   "source": [
    "print(some_var) #here we would have and error due because \"some_var\" is not defined so..."
   ]
  },
  {
   "cell_type": "code",
   "execution_count": 16,
   "id": "9204d5e5",
   "metadata": {},
   "outputs": [],
   "source": [
    "def causes_error(): #so here there would be no error because the undefined \"some_var\" is within de function definition so...\n",
    "    print(some_var) "
   ]
  },
  {
   "cell_type": "code",
   "execution_count": 14,
   "id": "a7008159",
   "metadata": {},
   "outputs": [
    {
     "ename": "NameError",
     "evalue": "name 'some_var' is not defined",
     "output_type": "error",
     "traceback": [
      "\u001b[1;31m---------------------------------------------------------------------------\u001b[0m",
      "\u001b[1;31mNameError\u001b[0m                                 Traceback (most recent call last)",
      "Input \u001b[1;32mIn [14]\u001b[0m, in \u001b[0;36m<cell line: 1>\u001b[1;34m()\u001b[0m\n\u001b[1;32m----> 1\u001b[0m \u001b[43mcauses_error\u001b[49m\u001b[43m(\u001b[49m\u001b[43m)\u001b[49m\n",
      "Input \u001b[1;32mIn [13]\u001b[0m, in \u001b[0;36mcauses_error\u001b[1;34m()\u001b[0m\n\u001b[0;32m      1\u001b[0m \u001b[38;5;28;01mdef\u001b[39;00m \u001b[38;5;21mcauses_error\u001b[39m():\n\u001b[1;32m----> 2\u001b[0m     \u001b[38;5;28mprint\u001b[39m(\u001b[43msome_var\u001b[49m)\n",
      "\u001b[1;31mNameError\u001b[0m: name 'some_var' is not defined"
     ]
    }
   ],
   "source": [
    "causes_error() #when we tried to print the function now it would se the error wich is \"some_var\" not definded"
   ]
  },
  {
   "cell_type": "code",
   "execution_count": 18,
   "id": "04f77362",
   "metadata": {},
   "outputs": [],
   "source": [
    "some_var = \"some stuff here\" # now we defined the variable \"some_var\" son the error would be erradicated"
   ]
  },
  {
   "cell_type": "code",
   "execution_count": 19,
   "id": "c3d1d0a3",
   "metadata": {},
   "outputs": [
    {
     "name": "stdout",
     "output_type": "stream",
     "text": [
      "some stuff here\n"
     ]
    }
   ],
   "source": [
    "causes_error()"
   ]
  },
  {
   "cell_type": "code",
   "execution_count": 20,
   "id": "220f2ea8",
   "metadata": {},
   "outputs": [],
   "source": [
    "def calculate_sum():\n",
    "    \n",
    "    print(\"Sum of 2, 3, 4 is\", 2 + 3 + 4) #here we can put a string and aritmetical sum together"
   ]
  },
  {
   "cell_type": "code",
   "execution_count": 21,
   "id": "50257d12",
   "metadata": {},
   "outputs": [
    {
     "name": "stdout",
     "output_type": "stream",
     "text": [
      "Sum of 2, 3, 4 is 9\n"
     ]
    }
   ],
   "source": [
    "calculate_sum()"
   ]
  },
  {
   "cell_type": "code",
   "execution_count": 32,
   "id": "6905e07f",
   "metadata": {},
   "outputs": [],
   "source": [
    "a = 2\n",
    "b = 3\n",
    "c = 4\n",
    "\n",
    "def calculate_sum():\n",
    "    result = a + b + c\n",
    "    \n",
    "    print(\"Sum of a, b, c is\", result)\n",
    "    \n",
    "    if result < 10:\n",
    "        print(\"The sum is less than 10!\")\n",
    "    else:\n",
    "        print(\"the sum is bigger than 10 because is\", result)"
   ]
  },
  {
   "cell_type": "code",
   "execution_count": 33,
   "id": "089f0b05",
   "metadata": {},
   "outputs": [
    {
     "name": "stdout",
     "output_type": "stream",
     "text": [
      "Sum of a, b, c is 9\n",
      "The sum is less than 10!\n"
     ]
    }
   ],
   "source": [
    "calculate_sum()"
   ]
  },
  {
   "cell_type": "code",
   "execution_count": 35,
   "id": "81030d05",
   "metadata": {},
   "outputs": [],
   "source": [
    "a = 1 #we can update the values and it would take the newest in order to re-calculate"
   ]
  },
  {
   "cell_type": "code",
   "execution_count": 36,
   "id": "90030747",
   "metadata": {},
   "outputs": [
    {
     "name": "stdout",
     "output_type": "stream",
     "text": [
      "Sum of a, b, c is 8\n",
      "The sum is less than 10!\n"
     ]
    }
   ],
   "source": [
    "calculate_sum()"
   ]
  },
  {
   "cell_type": "code",
   "execution_count": 37,
   "id": "18ed7e34",
   "metadata": {},
   "outputs": [
    {
     "name": "stdout",
     "output_type": "stream",
     "text": [
      "Sum of a, b, c is 105\n",
      "the sum is bigger than 10 because is 105\n"
     ]
    }
   ],
   "source": [
    "b = 100 #here we change the value of \"b\"\n",
    "\n",
    "calculate_sum()"
   ]
  },
  {
   "cell_type": "code",
   "execution_count": 38,
   "id": "2fb31362",
   "metadata": {},
   "outputs": [],
   "source": [
    "def calculate_sum (a, b, c):\n",
    "    \n",
    "    result = a + b + c\n",
    "    \n",
    "    print(\"sum of a, b, c is\", result)\n",
    "    \n",
    "    if result < 10:\n",
    "        print(\"the sum is less than 10\")\n",
    "    else:\n",
    "        print(\"the sum is greater than 10\")"
   ]
  },
  {
   "cell_type": "code",
   "execution_count": 40,
   "id": "4435e34b",
   "metadata": {},
   "outputs": [
    {
     "ename": "TypeError",
     "evalue": "calculate_sum() missing 2 required positional arguments: 'b' and 'c'",
     "output_type": "error",
     "traceback": [
      "\u001b[1;31m---------------------------------------------------------------------------\u001b[0m",
      "\u001b[1;31mTypeError\u001b[0m                                 Traceback (most recent call last)",
      "Input \u001b[1;32mIn [40]\u001b[0m, in \u001b[0;36m<cell line: 1>\u001b[1;34m()\u001b[0m\n\u001b[1;32m----> 1\u001b[0m \u001b[43mcalculate_sum\u001b[49m\u001b[43m(\u001b[49m\u001b[38;5;241;43m2\u001b[39;49m\u001b[43m)\u001b[49m\n",
      "\u001b[1;31mTypeError\u001b[0m: calculate_sum() missing 2 required positional arguments: 'b' and 'c'"
     ]
    }
   ],
   "source": [
    "calculate_sum(2) #here we have an error because a, b, c are not assigned to we have to"
   ]
  },
  {
   "cell_type": "code",
   "execution_count": 41,
   "id": "da3ffd50",
   "metadata": {},
   "outputs": [
    {
     "name": "stdout",
     "output_type": "stream",
     "text": [
      "sum of a, b, c is 9\n",
      "the sum is less than 10\n"
     ]
    }
   ],
   "source": [
    "calculate_sum(2, 3, 4) #so here we assigned the values and it would correspond to each letter in the same order"
   ]
  },
  {
   "cell_type": "code",
   "execution_count": 42,
   "id": "cd3d338f",
   "metadata": {},
   "outputs": [
    {
     "name": "stdout",
     "output_type": "stream",
     "text": [
      "sum of a, b, c is 900\n",
      "the sum is greater than 10\n"
     ]
    }
   ],
   "source": [
    "calculate_sum(200, 300, 400) #we can always change the values inside the variable "
   ]
  },
  {
   "cell_type": "code",
   "execution_count": 43,
   "id": "ec55d380",
   "metadata": {},
   "outputs": [
    {
     "name": "stdout",
     "output_type": "stream",
     "text": [
      "sum of a, b, c is 90\n",
      "the sum is greater than 10\n"
     ]
    }
   ],
   "source": [
    "x = 20\n",
    "y = 30\n",
    "z = 40\n",
    "\n",
    "calculate_sum(x, y, z) #it doesnt matters if you use other letters the function assigned would operate the same"
   ]
  },
  {
   "cell_type": "code",
   "execution_count": 44,
   "id": "01f9a934",
   "metadata": {},
   "outputs": [],
   "source": [
    "def raise_to_the_power(num, exponent): #here we can see it is assigned a name to each element \"num\" and \"exponent\"\n",
    "    \n",
    "    power = num ** exponent #here we have the operation in wich \"power\" would be the raised power and it is equal to the arytmetic operation\n",
    "    \n",
    "    print(power)"
   ]
  },
  {
   "cell_type": "code",
   "execution_count": 45,
   "id": "5fe0e7d0",
   "metadata": {},
   "outputs": [
    {
     "name": "stdout",
     "output_type": "stream",
     "text": [
      "16\n"
     ]
    }
   ],
   "source": [
    "raise_to_the_power(4, 2) #here is 4 squared (in the power of 2)"
   ]
  },
  {
   "cell_type": "code",
   "execution_count": 46,
   "id": "7e2d4a75",
   "metadata": {},
   "outputs": [
    {
     "name": "stdout",
     "output_type": "stream",
     "text": [
      "27\n"
     ]
    }
   ],
   "source": [
    "raise_to_the_power(3, 3)"
   ]
  },
  {
   "cell_type": "code",
   "execution_count": 47,
   "id": "ab4a487c",
   "metadata": {},
   "outputs": [
    {
     "ename": "TypeError",
     "evalue": "raise_to_the_power() missing 1 required positional argument: 'exponent'",
     "output_type": "error",
     "traceback": [
      "\u001b[1;31m---------------------------------------------------------------------------\u001b[0m",
      "\u001b[1;31mTypeError\u001b[0m                                 Traceback (most recent call last)",
      "Input \u001b[1;32mIn [47]\u001b[0m, in \u001b[0;36m<cell line: 1>\u001b[1;34m()\u001b[0m\n\u001b[1;32m----> 1\u001b[0m \u001b[43mraise_to_the_power\u001b[49m\u001b[43m(\u001b[49m\u001b[38;5;241;43m10\u001b[39;49m\u001b[43m)\u001b[49m\n",
      "\u001b[1;31mTypeError\u001b[0m: raise_to_the_power() missing 1 required positional argument: 'exponent'"
     ]
    }
   ],
   "source": [
    "raise_to_the_power(10) # if we try to just put one number it will show an error due to the logical operation needs the \"exponent\""
   ]
  },
  {
   "cell_type": "code",
   "execution_count": 48,
   "id": "2c24bbfd",
   "metadata": {},
   "outputs": [
    {
     "name": "stdout",
     "output_type": "stream",
     "text": [
      "16\n"
     ]
    }
   ],
   "source": [
    "result = raise_to_the_power(4, 2) #here we can store the operation in a variable called \"result\" to type it easier"
   ]
  },
  {
   "cell_type": "code",
   "execution_count": 51,
   "id": "266bea79",
   "metadata": {},
   "outputs": [
    {
     "name": "stdout",
     "output_type": "stream",
     "text": [
      "None\n"
     ]
    }
   ],
   "source": [
    "print(result) #result is value \"none\""
   ]
  },
  {
   "cell_type": "code",
   "execution_count": 53,
   "id": "919bf422",
   "metadata": {},
   "outputs": [
    {
     "data": {
      "text/plain": [
       "NoneType"
      ]
     },
     "execution_count": 53,
     "metadata": {},
     "output_type": "execute_result"
    }
   ],
   "source": [
    "type(result) #here we prove is a none"
   ]
  },
  {
   "cell_type": "code",
   "execution_count": 59,
   "id": "cdb3d072",
   "metadata": {},
   "outputs": [],
   "source": [
    "def square_and_cube(num):\n",
    "    square = num ** 2\n",
    "    cube = num ** 3\n",
    "    \n",
    "    return square, cube #we use \"return\" funtion due because is a tupleinstead of print "
   ]
  },
  {
   "cell_type": "code",
   "execution_count": 57,
   "id": "34871e6b",
   "metadata": {},
   "outputs": [
    {
     "data": {
      "text/plain": [
       "(144, 1728)"
      ]
     },
     "execution_count": 57,
     "metadata": {},
     "output_type": "execute_result"
    }
   ],
   "source": [
    "squared_and_cube(12)"
   ]
  },
  {
   "cell_type": "code",
   "execution_count": 60,
   "id": "6d31b040",
   "metadata": {},
   "outputs": [],
   "source": [
    "square, cube = square_and_cube (4)"
   ]
  },
  {
   "cell_type": "code",
   "execution_count": 61,
   "id": "92a40761",
   "metadata": {},
   "outputs": [
    {
     "data": {
      "text/plain": [
       "16"
      ]
     },
     "execution_count": 61,
     "metadata": {},
     "output_type": "execute_result"
    }
   ],
   "source": [
    "square"
   ]
  },
  {
   "cell_type": "code",
   "execution_count": 62,
   "id": "1c8fb889",
   "metadata": {},
   "outputs": [
    {
     "data": {
      "text/plain": [
       "64"
      ]
     },
     "execution_count": 62,
     "metadata": {},
     "output_type": "execute_result"
    }
   ],
   "source": [
    "cube"
   ]
  },
  {
   "cell_type": "code",
   "execution_count": 69,
   "id": "2cd4d8c4",
   "metadata": {},
   "outputs": [],
   "source": [
    "def divisible_by_5(num):\n",
    "    \n",
    "    if num % 5 == 0:\n",
    "        return \"this number\", num, \"is divisible by 5\" #we add this condition to the code to return us the condition described if is divisible by 5\n",
    "    \n",
    "    elif num % 5 != 0:\n",
    "        return \"This number\", num, \"is not divisible by 5\" #we add this condition to the code to return us the condition described if is not divisible by 5 but we can use also \"else\" condition\n",
    "    #it can return any kind of data... lists, tuples, integers"
   ]
  },
  {
   "cell_type": "code",
   "execution_count": 71,
   "id": "69804b5a",
   "metadata": {},
   "outputs": [
    {
     "data": {
      "text/plain": [
       "('This number', 63, 'is not divisible by 5')"
      ]
     },
     "execution_count": 71,
     "metadata": {},
     "output_type": "execute_result"
    }
   ],
   "source": [
    "divisible_by_5(63) #here is were we typoe the number that we wan to evaluate"
   ]
  },
  {
   "cell_type": "code",
   "execution_count": null,
   "id": "290aba5b",
   "metadata": {},
   "outputs": [],
   "source": []
  },
  {
   "cell_type": "code",
   "execution_count": null,
   "id": "c66acd78",
   "metadata": {},
   "outputs": [],
   "source": []
  },
  {
   "cell_type": "code",
   "execution_count": null,
   "id": "d5e35212",
   "metadata": {},
   "outputs": [],
   "source": []
  },
  {
   "cell_type": "code",
   "execution_count": null,
   "id": "2f1f6f4c",
   "metadata": {},
   "outputs": [],
   "source": []
  },
  {
   "cell_type": "code",
   "execution_count": null,
   "id": "b1243b27",
   "metadata": {},
   "outputs": [],
   "source": []
  },
  {
   "cell_type": "code",
   "execution_count": null,
   "id": "0495ca16",
   "metadata": {},
   "outputs": [],
   "source": []
  },
  {
   "cell_type": "code",
   "execution_count": null,
   "id": "f4142468",
   "metadata": {},
   "outputs": [],
   "source": []
  },
  {
   "cell_type": "code",
   "execution_count": null,
   "id": "a412919a",
   "metadata": {},
   "outputs": [],
   "source": []
  },
  {
   "cell_type": "code",
   "execution_count": null,
   "id": "a8f8482f",
   "metadata": {},
   "outputs": [],
   "source": []
  },
  {
   "cell_type": "code",
   "execution_count": null,
   "id": "ad68752d",
   "metadata": {},
   "outputs": [],
   "source": []
  },
  {
   "cell_type": "code",
   "execution_count": null,
   "id": "28e4b3d7",
   "metadata": {},
   "outputs": [],
   "source": []
  }
 ],
 "metadata": {
  "kernelspec": {
   "display_name": "Python 3 (ipykernel)",
   "language": "python",
   "name": "python3"
  },
  "language_info": {
   "codemirror_mode": {
    "name": "ipython",
    "version": 3
   },
   "file_extension": ".py",
   "mimetype": "text/x-python",
   "name": "python",
   "nbconvert_exporter": "python",
   "pygments_lexer": "ipython3",
   "version": "3.9.12"
  }
 },
 "nbformat": 4,
 "nbformat_minor": 5
}
