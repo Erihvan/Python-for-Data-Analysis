{
 "cells": [
  {
   "cell_type": "code",
   "execution_count": 10,
   "id": "8f412757",
   "metadata": {},
   "outputs": [],
   "source": [
    "def fishing_gear(name, brand, action, height, speed_ratio, line_cap, line_diam):\n",
    "    \n",
    "    other_details = action, height, line_cap, line_diam\n",
    "    \n",
    "    print(\"Name of the rod :\", name)\n",
    "    print(\"Brand :\", brand,\"\\nspeed ratio: \", speed_ratio) # ***PROTIP*** using \"\\n\" makes the print \"speed ratio\" go underneat \"brand\" \n",
    "    print(\"line diameter :\", line_diam)\n",
    "    print(\"Remaining details (action, height, line_cap, line_diam):\", other_details)"
   ]
  },
  {
   "cell_type": "code",
   "execution_count": 11,
   "id": "27be40c0",
   "metadata": {},
   "outputs": [
    {
     "name": "stdout",
     "output_type": "stream",
     "text": [
      "Name of the rod : Ambasdeur\n",
      "Brand : Abu Garcia \n",
      "speed ratio:  2.9\n",
      "line diameter : 261000\n",
      "Remaining details (action, height, line_cap, line_diam): (544, 7.0, 220, 261000)\n"
     ]
    }
   ],
   "source": [
    "fishing_gear(\"Ambasdeur\",\n",
    "            \"Abu Garcia\",\n",
    "            544,\n",
    "            7.0,\n",
    "            2.9,\n",
    "            220,\n",
    "            261000) #in this example, we have to match up each string and number value into each \"fishin_gear\" keyword and this could be kind of confusing when programming in the real world so.. the thing here is to specify for each number a small description that allows to know the meannign of each value and avoid getting confused"
   ]
  },
  {
   "cell_type": "code",
   "execution_count": null,
   "id": "5ec7ee4d",
   "metadata": {},
   "outputs": [],
   "source": [
    "# so we can make this podification as shown below"
   ]
  },
  {
   "cell_type": "code",
   "execution_count": 13,
   "id": "83660ae2",
   "metadata": {},
   "outputs": [
    {
     "name": "stdout",
     "output_type": "stream",
     "text": [
      "Name of the rod : Ambasdeur\n",
      "Brand : Abu Garcia \n",
      "speed ratio:  2.9\n",
      "line diameter : 261000\n",
      "Remaining details (action, height, line_cap, line_diam): (544, 7.1, 220, 261000)\n"
     ]
    }
   ],
   "source": [
    "fishing_gear(\"Ambasdeur\",\n",
    "            \"Abu Garcia\",\n",
    "            action=544,\n",
    "            height=7.0,\n",
    "            speed_ratio=2.9,\n",
    "            line_cap=220,\n",
    "            line_diam=261000) #so here we assign the description for each value to avoid getting confused and it works well\n",
    "\n",
    "\n",
    "\n",
    "# YOU MUST SPECIFY EXACT NAME OF THE KEYWORD IN ORDER TO ASSIGN THE VALUE ITS NAME for example if:\n",
    "# >>> fishing_gear\n",
    "           #(\"Ambasdeur\",\n",
    "           # \"Abu Garcia\",\n",
    "           # action=544,\n",
    "           # height=7.0,\n",
    "           # speedratio=2.9, ****IF HERE I DONT USE THE UNDERSCORE \"_\" AS THE ORIGINAL KEY WORD, IT WOULD APPEAR AN ERROR****\n",
    "           # line_cap=220,\n",
    "           # line_diam=261000)\n",
    "            \n",
    "#also... all of your position arguments must come firts \"Ambasdeur, Abu Garcia\" and then the keyword argumnets \"action=544....etc\"\n",
    "# you must name all the keyword arguments... you CAN'T just name a few ones... must be all of them or an error will appear"
   ]
  },
  {
   "cell_type": "code",
   "execution_count": null,
   "id": "9ede5024",
   "metadata": {},
   "outputs": [],
   "source": [
    "#You dont have to specifically put the keyword arguments in order as long as they are assigned correctly it would work as the example shown below"
   ]
  },
  {
   "cell_type": "code",
   "execution_count": 14,
   "id": "d612296e",
   "metadata": {},
   "outputs": [
    {
     "name": "stdout",
     "output_type": "stream",
     "text": [
      "Name of the rod : Ambasdeur\n",
      "Brand : Abu Garcia \n",
      "speed ratio:  2.9\n",
      "line diameter : 261000\n",
      "Remaining details (action, height, line_cap, line_diam): (544, 7.0, 220, 261000)\n"
     ]
    }
   ],
   "source": [
    "fishing_gear(brand=\"Abu Garcia\",\n",
    "             name=\"Ambasdeur\",\n",
    "             action=544,\n",
    "             line_cap=220,\n",
    "             height=7.0,\n",
    "             line_diam=261000,\n",
    "             speed_ratio=2.9)\n",
    "\n",
    "# the code still works because it is previously defined so as long as the keyword arguments are all named and correct there would no be any isse"
   ]
  },
  {
   "cell_type": "code",
   "execution_count": null,
   "id": "bdb1d05f",
   "metadata": {},
   "outputs": [],
   "source": [
    "# When you have pre-assigned (default) values as shown below \"line_diam=35000\" you dont have to specify it when assigning the keyword values so instead of assigning the 7 you just have to assing 6 of them"
   ]
  },
  {
   "cell_type": "code",
   "execution_count": 15,
   "id": "9112fff9",
   "metadata": {},
   "outputs": [],
   "source": [
    "def fishing_gear(name, brand, action, height, speed_ratio, line_cap, line_diam=35000):\n",
    "    \n",
    "    other_details = action, height, line_cap, line_diam\n",
    "    \n",
    "    print(\"Name of the rod :\", name)\n",
    "    print(\"Brand :\", brand,\"\\nspeed ratio: \", speed_ratio) \n",
    "    print(\"line diameter :\", line_diam)\n",
    "    print(\"Remaining details (action, height, line_cap, line_diam):\", other_details)"
   ]
  },
  {
   "cell_type": "code",
   "execution_count": 16,
   "id": "5150d597",
   "metadata": {},
   "outputs": [
    {
     "name": "stdout",
     "output_type": "stream",
     "text": [
      "Name of the rod : Ambasdeur\n",
      "Brand : Abu Garcia \n",
      "speed ratio:  2.9\n",
      "line diameter : 35000\n",
      "Remaining details (action, height, line_cap, line_diam): (544, 7.0, 220, 35000)\n"
     ]
    }
   ],
   "source": [
    "fishing_gear(brand=\"Abu Garcia\",\n",
    "             name=\"Ambasdeur\",\n",
    "             action=544,\n",
    "             line_cap=220,\n",
    "             height=7.0,\n",
    "             speed_ratio=2.9)\n",
    "\n",
    "#here we didn't assign the keyword \"line_diam\" becuse it is pre-assigned as shown above \"line_diam=35000\" and we have no error"
   ]
  },
  {
   "cell_type": "code",
   "execution_count": null,
   "id": "078420bf",
   "metadata": {},
   "outputs": [],
   "source": [
    "#but... you can still modify the default value by overwritting it... taking the \"line_diam\" as an example:"
   ]
  },
  {
   "cell_type": "code",
   "execution_count": 17,
   "id": "7dfa4ac9",
   "metadata": {},
   "outputs": [
    {
     "name": "stdout",
     "output_type": "stream",
     "text": [
      "Name of the rod : Ambasdeur\n",
      "Brand : Abu Garcia \n",
      "speed ratio:  2.9\n",
      "line diameter : 50000\n",
      "Remaining details (action, height, line_cap, line_diam): (544, 7.0, 220, 50000)\n"
     ]
    }
   ],
   "source": [
    "fishing_gear(brand=\"Abu Garcia\",\n",
    "             name=\"Ambasdeur\",\n",
    "             action=544,\n",
    "             line_cap=220,\n",
    "             height=7.0,\n",
    "             line_diam=50000, #here we went from a default value \"line_diam=35000\" to \"line_diam=50000\" so we could changed it without worrying about the default assignment\n",
    "             speed_ratio=2.9)"
   ]
  },
  {
   "cell_type": "code",
   "execution_count": null,
   "id": "1d02fb94",
   "metadata": {},
   "outputs": [],
   "source": []
  },
  {
   "cell_type": "code",
   "execution_count": null,
   "id": "b2f3ca18",
   "metadata": {},
   "outputs": [],
   "source": []
  },
  {
   "cell_type": "code",
   "execution_count": null,
   "id": "a8db5848",
   "metadata": {},
   "outputs": [],
   "source": []
  }
 ],
 "metadata": {
  "kernelspec": {
   "display_name": "Python 3 (ipykernel)",
   "language": "python",
   "name": "python3"
  },
  "language_info": {
   "codemirror_mode": {
    "name": "ipython",
    "version": 3
   },
   "file_extension": ".py",
   "mimetype": "text/x-python",
   "name": "python",
   "nbconvert_exporter": "python",
   "pygments_lexer": "ipython3",
   "version": "3.9.12"
  }
 },
 "nbformat": 4,
 "nbformat_minor": 5
}
